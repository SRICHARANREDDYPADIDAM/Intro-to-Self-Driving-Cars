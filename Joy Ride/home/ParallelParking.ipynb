{
 "cells": [
  {
   "cell_type": "markdown",
   "metadata": {},
   "source": [
    "# Joy Ride - Part 3: Parallel Parking\n",
    "In this section you will write a function that implements the correct sequence of steps required to parallel park a vehicle.\n",
    "\n",
    "NOTE: for this segment the vehicle's maximum speed has been set to just over 4 mph. This should make parking a little easier.\n",
    "\n",
    "![](https://upload.wikimedia.org/wikipedia/commons/2/26/ParallelParkingAnimation.gif)"
   ]
  },
  {
   "cell_type": "markdown",
   "metadata": {},
   "source": [
    "If you have never heard of WASD keys, please check out this [link](https://en.wikipedia.org/wiki/Arrow_keys#WASD_keys).\n",
    "\n",
    "## Instructions to get started\n",
    "\n",
    "1. Run the `SETUP CELL` below this one by pressing `Ctrl + Enter`. \n",
    "1. Click the button that says \"Load Car Simulator\". The simulator will appear below the button.\n",
    "1. Run the cell below the simulator, marked `CODE CELL` (hit `Ctrl + Enter`). \n",
    "1. Try to drive the car using WASD keys. You might notice a problem...\n",
    "1. Press the **Reset** button in the simulator and then modify the code in the `CODE CELL` as per the instructions in TODO comments. \n",
    "1. When you think you've fixed the problem, run the code cell again. \n",
    "\n",
    "**NOTE** - Depending on your computer, it may take a few minutes for the simulator to load! Please be patient.\n",
    "\n",
    "### Instructions to Reload the Simulator\n",
    "Once the simulator is loaded, the `SETUP CELL` cannot be rerun, or it will prevent the simulator from appearing. If something happens to the simulator, you can do the following:\n",
    "- Go to Jupyter’s menu: Kernel --> Restart and Clear Output\n",
    "- Reload the page (Cmd-R)\n",
    "- Run the first cell again\n",
    "- Click the Green `Load Car Simulator` button again "
   ]
  },
  {
   "cell_type": "code",
   "execution_count": 1,
   "metadata": {},
   "outputs": [
    {
     "data": {
      "text/html": [
       "<link rel=\"stylesheet\" type=\"text/css\" href=\"buttonStyle.css\">\n",
       "<button id=\"launcher\">Load Car Simulator </button>\n",
       "<button id=\"restart\">Restart Connection</button>\n",
       "<script src=\"setupLauncher.js\"></script><div id=\"simulator_frame\"></sim>\n",
       "<script src=\"kernelRestart.js\"></script>"
      ],
      "text/plain": [
       "<IPython.core.display.HTML object>"
      ]
     },
     "metadata": {},
     "output_type": "display_data"
    }
   ],
   "source": [
    "\n",
    "\n",
    "%%HTML\n",
    "<link rel=\"stylesheet\" type=\"text/css\" href=\"buttonStyle.css\">\n",
    "<button id=\"launcher\">Load Car Simulator </button>\n",
    "<button id=\"restart\">Restart Connection</button>\n",
    "<script src=\"setupLauncher.js\"></script><div id=\"simulator_frame\"></sim>\n",
    "<script src=\"kernelRestart.js\"></script>"
   ]
  },
  {
   "cell_type": "code",
   "execution_count": 2,
   "metadata": {},
   "outputs": [
    {
     "name": "stdout",
     "output_type": "stream",
     "text": [
      "running\n",
      "CONNECTED\n",
      "('172.18.0.1', 36638) connected\n",
      "('172.18.0.1', 36638) closed\n",
      "CONNECTED\n",
      "('172.18.0.1', 36642) connected\n",
      "('172.18.0.1', 36642) closed\n"
     ]
    },
    {
     "ename": "KeyboardInterrupt",
     "evalue": "",
     "output_type": "error",
     "traceback": [
      "\u001b[0;31m---------------------------------------------------------------------------\u001b[0m",
      "\u001b[0;31mKeyboardInterrupt\u001b[0m                         Traceback (most recent call last)",
      "\u001b[0;32m<ipython-input-2-eeea4821534c>\u001b[0m in \u001b[0;36m<module>\u001b[0;34m()\u001b[0m\n\u001b[1;32m     34\u001b[0m \u001b[0;34m\u001b[0m\u001b[0m\n\u001b[1;32m     35\u001b[0m \u001b[0;32mimport\u001b[0m \u001b[0msrc\u001b[0m\u001b[0;34m.\u001b[0m\u001b[0msimulate\u001b[0m \u001b[0;32mas\u001b[0m \u001b[0msim\u001b[0m\u001b[0;34m\u001b[0m\u001b[0m\n\u001b[0;32m---> 36\u001b[0;31m \u001b[0msim\u001b[0m\u001b[0;34m.\u001b[0m\u001b[0mrun\u001b[0m\u001b[0;34m(\u001b[0m\u001b[0mcontrol\u001b[0m\u001b[0;34m)\u001b[0m\u001b[0;34m\u001b[0m\u001b[0m\n\u001b[0m",
      "\u001b[0;32m/home/workspace/src/simulate.py\u001b[0m in \u001b[0;36mrun\u001b[0;34m(controller)\u001b[0m\n\u001b[1;32m     80\u001b[0m     \u001b[0mt\u001b[0m\u001b[0;34m.\u001b[0m\u001b[0mdaemon\u001b[0m \u001b[0;34m=\u001b[0m \u001b[0;32mTrue\u001b[0m\u001b[0;34m\u001b[0m\u001b[0m\n\u001b[1;32m     81\u001b[0m     \u001b[0mt\u001b[0m\u001b[0;34m.\u001b[0m\u001b[0mstart\u001b[0m\u001b[0;34m(\u001b[0m\u001b[0;34m)\u001b[0m\u001b[0;34m\u001b[0m\u001b[0m\n\u001b[0;32m---> 82\u001b[0;31m     \u001b[0;32mwhile\u001b[0m \u001b[0;36m1\u001b[0m\u001b[0;34m:\u001b[0m \u001b[0mt\u001b[0m\u001b[0;34m.\u001b[0m\u001b[0mjoin\u001b[0m\u001b[0;34m(\u001b[0m\u001b[0;36m1\u001b[0m\u001b[0;34m)\u001b[0m\u001b[0;34m\u001b[0m\u001b[0m\n\u001b[0m\u001b[1;32m     83\u001b[0m \u001b[0;34m\u001b[0m\u001b[0m\n",
      "\u001b[0;32m/opt/conda/lib/python3.6/threading.py\u001b[0m in \u001b[0;36mjoin\u001b[0;34m(self, timeout)\u001b[0m\n\u001b[1;32m   1058\u001b[0m             \u001b[0;31m# the behavior of a negative timeout isn't documented, but\u001b[0m\u001b[0;34m\u001b[0m\u001b[0;34m\u001b[0m\u001b[0m\n\u001b[1;32m   1059\u001b[0m             \u001b[0;31m# historically .join(timeout=x) for x<0 has acted as if timeout=0\u001b[0m\u001b[0;34m\u001b[0m\u001b[0;34m\u001b[0m\u001b[0m\n\u001b[0;32m-> 1060\u001b[0;31m             \u001b[0mself\u001b[0m\u001b[0;34m.\u001b[0m\u001b[0m_wait_for_tstate_lock\u001b[0m\u001b[0;34m(\u001b[0m\u001b[0mtimeout\u001b[0m\u001b[0;34m=\u001b[0m\u001b[0mmax\u001b[0m\u001b[0;34m(\u001b[0m\u001b[0mtimeout\u001b[0m\u001b[0;34m,\u001b[0m \u001b[0;36m0\u001b[0m\u001b[0;34m)\u001b[0m\u001b[0;34m)\u001b[0m\u001b[0;34m\u001b[0m\u001b[0m\n\u001b[0m\u001b[1;32m   1061\u001b[0m \u001b[0;34m\u001b[0m\u001b[0m\n\u001b[1;32m   1062\u001b[0m     \u001b[0;32mdef\u001b[0m \u001b[0m_wait_for_tstate_lock\u001b[0m\u001b[0;34m(\u001b[0m\u001b[0mself\u001b[0m\u001b[0;34m,\u001b[0m \u001b[0mblock\u001b[0m\u001b[0;34m=\u001b[0m\u001b[0;32mTrue\u001b[0m\u001b[0;34m,\u001b[0m \u001b[0mtimeout\u001b[0m\u001b[0;34m=\u001b[0m\u001b[0;34m-\u001b[0m\u001b[0;36m1\u001b[0m\u001b[0;34m)\u001b[0m\u001b[0;34m:\u001b[0m\u001b[0;34m\u001b[0m\u001b[0m\n",
      "\u001b[0;32m/opt/conda/lib/python3.6/threading.py\u001b[0m in \u001b[0;36m_wait_for_tstate_lock\u001b[0;34m(self, block, timeout)\u001b[0m\n\u001b[1;32m   1070\u001b[0m         \u001b[0;32mif\u001b[0m \u001b[0mlock\u001b[0m \u001b[0;32mis\u001b[0m \u001b[0;32mNone\u001b[0m\u001b[0;34m:\u001b[0m  \u001b[0;31m# already determined that the C code is done\u001b[0m\u001b[0;34m\u001b[0m\u001b[0m\n\u001b[1;32m   1071\u001b[0m             \u001b[0;32massert\u001b[0m \u001b[0mself\u001b[0m\u001b[0;34m.\u001b[0m\u001b[0m_is_stopped\u001b[0m\u001b[0;34m\u001b[0m\u001b[0m\n\u001b[0;32m-> 1072\u001b[0;31m         \u001b[0;32melif\u001b[0m \u001b[0mlock\u001b[0m\u001b[0;34m.\u001b[0m\u001b[0macquire\u001b[0m\u001b[0;34m(\u001b[0m\u001b[0mblock\u001b[0m\u001b[0;34m,\u001b[0m \u001b[0mtimeout\u001b[0m\u001b[0;34m)\u001b[0m\u001b[0;34m:\u001b[0m\u001b[0;34m\u001b[0m\u001b[0m\n\u001b[0m\u001b[1;32m   1073\u001b[0m             \u001b[0mlock\u001b[0m\u001b[0;34m.\u001b[0m\u001b[0mrelease\u001b[0m\u001b[0;34m(\u001b[0m\u001b[0;34m)\u001b[0m\u001b[0;34m\u001b[0m\u001b[0m\n\u001b[1;32m   1074\u001b[0m             \u001b[0mself\u001b[0m\u001b[0;34m.\u001b[0m\u001b[0m_stop\u001b[0m\u001b[0;34m(\u001b[0m\u001b[0;34m)\u001b[0m\u001b[0;34m\u001b[0m\u001b[0m\n",
      "\u001b[0;31mKeyboardInterrupt\u001b[0m: "
     ]
    }
   ],
   "source": [
    "# CODE CELL\n",
    "\n",
    "# Before/After running any code changes make sure to click the button \"Restart Connection\" above first.\n",
    "# Also make sure to click Reset in the simulator to refresh the connection.\n",
    "# You need to wait for the Kernel Ready message.\n",
    "\n",
    "\n",
    "car_parameters = {\"throttle\": 0, \"steer\": 0, \"brake\": 0}\n",
    "\n",
    "def control(pos_x, pos_y, time, velocity):\n",
    "    \"\"\" Controls the simulated car\"\"\"\n",
    "    global car_parameters\n",
    "    \n",
    "    \n",
    "    # TODO: Use WASD keys in simulator to gain an intuitive feel of parallel parking.\n",
    "    # Pay close attention to the time, position, and velocity in the simulator.\n",
    "    \n",
    "    # TODO: Use this information to make decisions about how to set your car parameters\n",
    "    \n",
    "    # In this example the car will drive forward for three seconds\n",
    "    # and then backs up until its pos_y is less than 32 then comes to a stop by braking\n",
    "    \n",
    "    if t > 0:\n",
    "        car_parameters['throttle'] = -1.9\n",
    "        car_parameters['steer'] = 25\n",
    "    elif t > 3:\n",
    "        car_parameters['throttle'] = -1.9\n",
    "        car_parameters['steer'] = -25\n",
    "    elif t>6:\n",
    "        car_parameters['throttle'] = 0\n",
    "        car_parameters['brake'] = 1\n",
    "    \n",
    "    return car_parameters\n",
    "    \n",
    "import src.simulate as sim\n",
    "sim.run(control)\n"
   ]
  },
  {
   "cell_type": "markdown",
   "metadata": {},
   "source": [
    "# Submitting this Project!\n",
    "Your parallel park function is \"correct\" when:\n",
    "\n",
    "1. Your car doesn't hit any other cars.\n",
    "2. Your car stops completely inside of the right lane.\n",
    "\n",
    "Once you've got it working, it's time to submit. Submit by pressing the `SUBMIT` button at the lower right corner of this page."
   ]
  },
  {
   "cell_type": "code",
   "execution_count": null,
   "metadata": {},
   "outputs": [],
   "source": []
  }
 ],
 "metadata": {
  "kernelspec": {
   "display_name": "Python 3",
   "language": "python",
   "name": "python3"
  },
  "language_info": {
   "codemirror_mode": {
    "name": "ipython",
    "version": 3
   },
   "file_extension": ".py",
   "mimetype": "text/x-python",
   "name": "python",
   "nbconvert_exporter": "python",
   "pygments_lexer": "ipython3",
   "version": "3.6.3"
  }
 },
 "nbformat": 4,
 "nbformat_minor": 2
}
